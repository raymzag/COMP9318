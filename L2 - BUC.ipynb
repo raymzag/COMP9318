{
 "cells": [
  {
   "cell_type": "markdown",
   "metadata": {},
   "source": [
    "# Introduction\n",
    "\n",
    "In this notebook, we implement a simpler version of the BUC (Bottom up cubing) algorithm. \n",
    "\n",
    "The original BUC algorithm is a highly optimized and practically efficient algorithm to materialize the entire data cube given a fact table. We instead experiment with a simpler version, called `BUC_rec` (BUC recursive), based on our teaching slides. The implementation here emphasize more on the conceptual simplicity rather than efficiency. \n",
    "\n",
    "Once you understand `BUC_rec`, you may try to understand `BUC` if you want to learn more by yourself. \n",
    "\n",
    "The recursive formula used in `BUC_rec` is: \n",
    "\n",
    "$$\n",
    "Cube(R, \\{A,B,C,\\ldots,M\\}) = \\bigcup_{i \\in \\{1, 2, \\ldots, m, \\text{ALL}\\}} Cube(R_i, \\{B,C,\\ldots,M\\}) \n",
    "$$\n",
    "where $R_i$ is $\\pi_{B,C,\\ldots,M}(\\sigma_{A = a_i}(R))$ and $R_{\\text{ALL}}$ is $\\pi_{B,C,\\ldots,M}(R)$."
   ]
  },
  {
   "cell_type": "code",
   "execution_count": 1,
   "metadata": {
    "collapsed": true
   },
   "outputs": [],
   "source": [
    "import sys\n",
    "import pandas as pd\n",
    "import numpy as np\n",
    "\n",
    "\n",
    "ALL = -1\n",
    "\n",
    "# DEBUG = True\n",
    "DEBUG = False\n",
    "\n",
    "##============================================================\n",
    "\n",
    "# Data file format: \n",
    "# * tab-delimited input file\n",
    "# * 1st line: dimension names and the last dimension is assumed to be the measure\n",
    "# * rest of the lines: data values. \n",
    "def read_data(filename):\n",
    "    df = pd.read_csv(filename, sep='\\t')\n",
    "    dims = df.shape[1] - 1 # the last dim is the measure\n",
    "    return (df, dims)\n",
    "\n",
    "def dump_input2(input):\n",
    "    if DEBUG: \n",
    "        print(\"\\n.. BUC_rec invoked on:\")\n",
    "        print(input)\n",
    "        print(\"......................\\n\")\n",
    "        \n",
    "# helper functions\n",
    "def project_data(input, d):\n",
    "    # Return only the d-th column of INPUT\n",
    "    return input.iloc[:, d]\n",
    "\n",
    "def select_data(input, d, val):\n",
    "    # SELECT * FROM INPUT WHERE INPUT.d = VAL\n",
    "    col_name = input.columns[d]\n",
    "    return input[input[col_name] == val]\n",
    "\n",
    "def remove_first_dim(input):\n",
    "    # Remove the first dim of the input\n",
    "    return input.iloc[:, 1:]\n",
    "\n",
    "def slice_data_dim0(input, v):\n",
    "    # syntactic sugar to get R_{ALL} in a less verbose way\n",
    "    df_temp = select_data(input, 0, v)\n",
    "    return remove_first_dim(df_temp)\n",
    "\n",
    "def output(val):\n",
    "    print('=>\\t{}'.format(val))\n"
   ]
  },
  {
   "cell_type": "code",
   "execution_count": 3,
   "metadata": {},
   "outputs": [
    {
     "name": "stdout",
     "output_type": "stream",
     "text": [
      "3\n"
     ]
    },
    {
     "data": {
      "text/html": [
       "<div>\n",
       "<style>\n",
       "    .dataframe thead tr:only-child th {\n",
       "        text-align: right;\n",
       "    }\n",
       "\n",
       "    .dataframe thead th {\n",
       "        text-align: left;\n",
       "    }\n",
       "\n",
       "    .dataframe tbody tr th {\n",
       "        vertical-align: top;\n",
       "    }\n",
       "</style>\n",
       "<table border=\"1\" class=\"dataframe\">\n",
       "  <thead>\n",
       "    <tr style=\"text-align: right;\">\n",
       "      <th></th>\n",
       "      <th>A</th>\n",
       "      <th>B</th>\n",
       "      <th>C</th>\n",
       "      <th>M</th>\n",
       "    </tr>\n",
       "  </thead>\n",
       "  <tbody>\n",
       "    <tr>\n",
       "      <th>0</th>\n",
       "      <td>Sydney</td>\n",
       "      <td>2005</td>\n",
       "      <td>PS2</td>\n",
       "      <td>1400</td>\n",
       "    </tr>\n",
       "    <tr>\n",
       "      <th>1</th>\n",
       "      <td>Sydney</td>\n",
       "      <td>2006</td>\n",
       "      <td>PS2</td>\n",
       "      <td>1500</td>\n",
       "    </tr>\n",
       "    <tr>\n",
       "      <th>2</th>\n",
       "      <td>Sydney</td>\n",
       "      <td>2006</td>\n",
       "      <td>Wii</td>\n",
       "      <td>500</td>\n",
       "    </tr>\n",
       "    <tr>\n",
       "      <th>3</th>\n",
       "      <td>Melbourne</td>\n",
       "      <td>2005</td>\n",
       "      <td>XBOX 360</td>\n",
       "      <td>1700</td>\n",
       "    </tr>\n",
       "  </tbody>\n",
       "</table>\n",
       "</div>"
      ],
      "text/plain": [
       "           A     B         C     M\n",
       "0     Sydney  2005       PS2  1400\n",
       "1     Sydney  2006       PS2  1500\n",
       "2     Sydney  2006       Wii   500\n",
       "3  Melbourne  2005  XBOX 360  1700"
      ]
     },
     "execution_count": 3,
     "metadata": {},
     "output_type": "execute_result"
    }
   ],
   "source": [
    "# psa test\n",
    "data, d = read_data('./asset/c_.txt')\n",
    "print(d)\n",
    "data"
   ]
  },
  {
   "cell_type": "code",
   "execution_count": 4,
   "metadata": {},
   "outputs": [
    {
     "name": "stdout",
     "output_type": "stream",
     "text": [
      "2\n"
     ]
    },
    {
     "data": {
      "text/html": [
       "<div>\n",
       "<style>\n",
       "    .dataframe thead tr:only-child th {\n",
       "        text-align: right;\n",
       "    }\n",
       "\n",
       "    .dataframe thead th {\n",
       "        text-align: left;\n",
       "    }\n",
       "\n",
       "    .dataframe tbody tr th {\n",
       "        vertical-align: top;\n",
       "    }\n",
       "</style>\n",
       "<table border=\"1\" class=\"dataframe\">\n",
       "  <thead>\n",
       "    <tr style=\"text-align: right;\">\n",
       "      <th></th>\n",
       "      <th>A</th>\n",
       "      <th>B</th>\n",
       "      <th>M</th>\n",
       "    </tr>\n",
       "  </thead>\n",
       "  <tbody>\n",
       "    <tr>\n",
       "      <th>0</th>\n",
       "      <td>1</td>\n",
       "      <td>1</td>\n",
       "      <td>20</td>\n",
       "    </tr>\n",
       "    <tr>\n",
       "      <th>1</th>\n",
       "      <td>2</td>\n",
       "      <td>1</td>\n",
       "      <td>50</td>\n",
       "    </tr>\n",
       "    <tr>\n",
       "      <th>2</th>\n",
       "      <td>1</td>\n",
       "      <td>2</td>\n",
       "      <td>30</td>\n",
       "    </tr>\n",
       "    <tr>\n",
       "      <th>3</th>\n",
       "      <td>1</td>\n",
       "      <td>3</td>\n",
       "      <td>40</td>\n",
       "    </tr>\n",
       "  </tbody>\n",
       "</table>\n",
       "</div>"
      ],
      "text/plain": [
       "   A  B   M\n",
       "0  1  1  20\n",
       "1  2  1  50\n",
       "2  1  2  30\n",
       "3  1  3  40"
      ]
     },
     "execution_count": 4,
     "metadata": {},
     "output_type": "execute_result"
    }
   ],
   "source": [
    "data, d = read_data('./asset/a_.txt')\n",
    "print(d)\n",
    "data"
   ]
  },
  {
   "cell_type": "code",
   "execution_count": 60,
   "metadata": {},
   "outputs": [
    {
     "data": {
      "text/plain": [
       "(4, 3)"
      ]
     },
     "execution_count": 60,
     "metadata": {},
     "output_type": "execute_result"
    }
   ],
   "source": [
    "data.shape # (4, 3)\n",
    "# data.iloc[:] \n",
    "# data.iloc[:, 1:]"
   ]
  },
  {
   "cell_type": "code",
   "execution_count": 80,
   "metadata": {},
   "outputs": [
    {
     "name": "stdout",
     "output_type": "stream",
     "text": [
      "0    1\n",
      "1    2\n",
      "2    1\n",
      "3    1\n",
      "Name: A, dtype: int64\n"
     ]
    }
   ],
   "source": [
    "# print(project_data(data, 0))\n",
    "print(project_data(data, 0))\n",
    "# print(sum(project_data(data, 0)))"
   ]
  },
  {
   "cell_type": "code",
   "execution_count": 66,
   "metadata": {},
   "outputs": [
    {
     "data": {
      "text/html": [
       "<div>\n",
       "<style>\n",
       "    .dataframe thead tr:only-child th {\n",
       "        text-align: right;\n",
       "    }\n",
       "\n",
       "    .dataframe thead th {\n",
       "        text-align: left;\n",
       "    }\n",
       "\n",
       "    .dataframe tbody tr th {\n",
       "        vertical-align: top;\n",
       "    }\n",
       "</style>\n",
       "<table border=\"1\" class=\"dataframe\">\n",
       "  <thead>\n",
       "    <tr style=\"text-align: right;\">\n",
       "      <th></th>\n",
       "      <th>A</th>\n",
       "      <th>B</th>\n",
       "      <th>M</th>\n",
       "    </tr>\n",
       "  </thead>\n",
       "  <tbody>\n",
       "    <tr>\n",
       "      <th>3</th>\n",
       "      <td>1</td>\n",
       "      <td>3</td>\n",
       "      <td>40</td>\n",
       "    </tr>\n",
       "  </tbody>\n",
       "</table>\n",
       "</div>"
      ],
      "text/plain": [
       "   A  B   M\n",
       "3  1  3  40"
      ]
     },
     "execution_count": 66,
     "metadata": {},
     "output_type": "execute_result"
    }
   ],
   "source": [
    "select_data(data, 1, 3)"
   ]
  },
  {
   "cell_type": "code",
   "execution_count": 25,
   "metadata": {},
   "outputs": [
    {
     "data": {
      "text/html": [
       "<div>\n",
       "<style>\n",
       "    .dataframe thead tr:only-child th {\n",
       "        text-align: right;\n",
       "    }\n",
       "\n",
       "    .dataframe thead th {\n",
       "        text-align: left;\n",
       "    }\n",
       "\n",
       "    .dataframe tbody tr th {\n",
       "        vertical-align: top;\n",
       "    }\n",
       "</style>\n",
       "<table border=\"1\" class=\"dataframe\">\n",
       "  <thead>\n",
       "    <tr style=\"text-align: right;\">\n",
       "      <th></th>\n",
       "      <th>B</th>\n",
       "      <th>M</th>\n",
       "    </tr>\n",
       "  </thead>\n",
       "  <tbody>\n",
       "    <tr>\n",
       "      <th>0</th>\n",
       "      <td>1</td>\n",
       "      <td>20</td>\n",
       "    </tr>\n",
       "    <tr>\n",
       "      <th>2</th>\n",
       "      <td>2</td>\n",
       "      <td>30</td>\n",
       "    </tr>\n",
       "    <tr>\n",
       "      <th>3</th>\n",
       "      <td>3</td>\n",
       "      <td>40</td>\n",
       "    </tr>\n",
       "  </tbody>\n",
       "</table>\n",
       "</div>"
      ],
      "text/plain": [
       "   B   M\n",
       "0  1  20\n",
       "2  2  30\n",
       "3  3  40"
      ]
     },
     "execution_count": 25,
     "metadata": {},
     "output_type": "execute_result"
    }
   ],
   "source": [
    "# slice_data_dim0(data, 2)\n",
    "slice_data_dim0(data, 1)"
   ]
  },
  {
   "cell_type": "markdown",
   "metadata": {},
   "source": [
    "Now we can implement the `buc_rec()` algorithm and test it."
   ]
  },
  {
   "cell_type": "code",
   "execution_count": 7,
   "metadata": {},
   "outputs": [
    {
     "data": {
      "text/html": [
       "<div>\n",
       "<style>\n",
       "    .dataframe thead tr:only-child th {\n",
       "        text-align: right;\n",
       "    }\n",
       "\n",
       "    .dataframe thead th {\n",
       "        text-align: left;\n",
       "    }\n",
       "\n",
       "    .dataframe tbody tr th {\n",
       "        vertical-align: top;\n",
       "    }\n",
       "</style>\n",
       "<table border=\"1\" class=\"dataframe\">\n",
       "  <thead>\n",
       "    <tr style=\"text-align: right;\">\n",
       "      <th></th>\n",
       "      <th>A</th>\n",
       "      <th>B</th>\n",
       "      <th>C</th>\n",
       "      <th>M</th>\n",
       "    </tr>\n",
       "  </thead>\n",
       "  <tbody>\n",
       "    <tr>\n",
       "      <th>0</th>\n",
       "      <td>Sydney</td>\n",
       "      <td>2005</td>\n",
       "      <td>PS2</td>\n",
       "      <td>1400</td>\n",
       "    </tr>\n",
       "    <tr>\n",
       "      <th>1</th>\n",
       "      <td>Sydney</td>\n",
       "      <td>2006</td>\n",
       "      <td>PS2</td>\n",
       "      <td>1500</td>\n",
       "    </tr>\n",
       "    <tr>\n",
       "      <th>2</th>\n",
       "      <td>Sydney</td>\n",
       "      <td>2006</td>\n",
       "      <td>Wii</td>\n",
       "      <td>500</td>\n",
       "    </tr>\n",
       "    <tr>\n",
       "      <th>3</th>\n",
       "      <td>Melbourne</td>\n",
       "      <td>2005</td>\n",
       "      <td>XBOX 360</td>\n",
       "      <td>1700</td>\n",
       "    </tr>\n",
       "  </tbody>\n",
       "</table>\n",
       "</div>"
      ],
      "text/plain": [
       "           A     B         C     M\n",
       "0     Sydney  2005       PS2  1400\n",
       "1     Sydney  2006       PS2  1500\n",
       "2     Sydney  2006       Wii   500\n",
       "3  Melbourne  2005  XBOX 360  1700"
      ]
     },
     "execution_count": 7,
     "metadata": {},
     "output_type": "execute_result"
    }
   ],
   "source": [
    "def buc_helper(input, output_df=[], index=''):\n",
    "\n",
    "    dump_input2(input)\n",
    "    dims = input.shape[1]\n",
    "    \n",
    "    if dims == 1:\n",
    "        # only the measure dim\n",
    "        input_sum = sum( project_data(input, 0) )\n",
    "        output_df.append((index, input_sum))\n",
    "#         output(input_sum)\n",
    "    else:\n",
    "        # the general case\n",
    "        dim0_vals = set(project_data(input, 0).values)\n",
    "        for dim0_v in dim0_vals:\n",
    "            if index != '':\n",
    "                new_index = ',' + str(dim0_v)\n",
    "            else:\n",
    "                new_index = str(dim0_v)\n",
    "            sub_data = slice_data_dim0(input, dim0_v)\n",
    "            buc_helper(sub_data, output_df, index + new_index)\n",
    "            \n",
    "        ## for R_{ALL}\n",
    "        sub_data = remove_first_dim(input)\n",
    "        buc_helper(sub_data, output_df, index + ',ALL')\n",
    "    return output_df\n",
    "\n",
    "def buc_rec(input):\n",
    "    temp_data_raw = buc_helper(input)\n",
    "    pd_raw_data = []\n",
    "    for i, j in temp_data_raw:\n",
    "        aList = list(filter(lambda x: x != '', i.split(',')))\n",
    "        aList.append(j)\n",
    "        pd_raw_data.append(aList)\n",
    "\n",
    "    return pd.DataFrame.from_records(pd_raw_data, columns=['A','B','C','M'])\n",
    "\n",
    "data"
   ]
  },
  {
   "cell_type": "code",
   "execution_count": 10,
   "metadata": {
    "scrolled": true
   },
   "outputs": [
    {
     "name": "stdout",
     "output_type": "stream",
     "text": [
      "            A     B         C     M\n",
      "0   Melbourne  2005  XBOX 360  1700\n",
      "1   Melbourne  2005       ALL  1700\n",
      "2   Melbourne   ALL  XBOX 360  1700\n",
      "3   Melbourne   ALL       ALL  1700\n",
      "4      Sydney  2005       PS2  1400\n",
      "5      Sydney  2005       ALL  1400\n",
      "6      Sydney  2006       PS2  1500\n",
      "7      Sydney  2006       Wii   500\n",
      "8      Sydney  2006       ALL  2000\n",
      "9      Sydney   ALL       PS2  2900\n",
      "10     Sydney   ALL       Wii   500\n",
      "11     Sydney   ALL       ALL  3400\n",
      "12        ALL  2005       PS2  1400\n",
      "13        ALL  2005  XBOX 360  1700\n",
      "14        ALL  2005       ALL  3100\n",
      "15        ALL  2006       PS2  1500\n",
      "16        ALL  2006       Wii   500\n",
      "17        ALL  2006       ALL  2000\n",
      "18        ALL   ALL       PS2  2900\n",
      "19        ALL   ALL  XBOX 360  1700\n",
      "20        ALL   ALL       Wii   500\n",
      "21        ALL   ALL       ALL  5100\n",
      "22  Melbourne  2005  XBOX 360  1700\n",
      "23  Melbourne  2005       ALL  1700\n",
      "24  Melbourne   ALL  XBOX 360  1700\n",
      "25  Melbourne   ALL       ALL  1700\n",
      "26     Sydney  2005       PS2  1400\n",
      "27     Sydney  2005       ALL  1400\n",
      "28     Sydney  2006       PS2  1500\n",
      "29     Sydney  2006       Wii   500\n",
      "..        ...   ...       ...   ...\n",
      "36        ALL  2005       ALL  3100\n",
      "37        ALL  2006       PS2  1500\n",
      "38        ALL  2006       Wii   500\n",
      "39        ALL  2006       ALL  2000\n",
      "40        ALL   ALL       PS2  2900\n",
      "41        ALL   ALL  XBOX 360  1700\n",
      "42        ALL   ALL       Wii   500\n",
      "43        ALL   ALL       ALL  5100\n",
      "44  Melbourne  2005  XBOX 360  1700\n",
      "45  Melbourne  2005       ALL  1700\n",
      "46  Melbourne   ALL  XBOX 360  1700\n",
      "47  Melbourne   ALL       ALL  1700\n",
      "48     Sydney  2005       PS2  1400\n",
      "49     Sydney  2005       ALL  1400\n",
      "50     Sydney  2006       PS2  1500\n",
      "51     Sydney  2006       Wii   500\n",
      "52     Sydney  2006       ALL  2000\n",
      "53     Sydney   ALL       PS2  2900\n",
      "54     Sydney   ALL       Wii   500\n",
      "55     Sydney   ALL       ALL  3400\n",
      "56        ALL  2005       PS2  1400\n",
      "57        ALL  2005  XBOX 360  1700\n",
      "58        ALL  2005       ALL  3100\n",
      "59        ALL  2006       PS2  1500\n",
      "60        ALL  2006       Wii   500\n",
      "61        ALL  2006       ALL  2000\n",
      "62        ALL   ALL       PS2  2900\n",
      "63        ALL   ALL  XBOX 360  1700\n",
      "64        ALL   ALL       Wii   500\n",
      "65        ALL   ALL       ALL  5100\n",
      "\n",
      "[66 rows x 4 columns]\n"
     ]
    }
   ],
   "source": [
    "# data2, d = read_data('./asset/b_.txt')\n",
    "# print(data2)\n",
    "export_df = buc_rec(data)\n",
    "print(export_df)\n",
    "# buc_rec(data.head(1))\n",
    "# input = data.head(1)\n",
    "# input = data\n",
    "# dim0_vals = set(project_data(input, 0).values)\n",
    "# print(dim0_vals)\n",
    "# print(slice_data_dim0(input, list(dim0_vals)[0]))\n",
    "# print('\\n')\n",
    "# print(slice_data_dim0(input, list(dim0_vals)[1]))\n",
    "# print('\\n')\n",
    "# print(remove_first_dim(input))\n",
    "# print(buc_rec(remove_first_dim(input)))\n",
    "# export_df.to_csv('c_buc.csv', sep=',', encoding='utf-8')"
   ]
  },
  {
   "cell_type": "markdown",
   "metadata": {},
   "source": [
    "With the following pivot table, we can easily see the output is correct (i.e., all the (non-empty) aggregates are computed). \n",
    "\n",
    "But did you notice anything else interesting? "
   ]
  },
  {
   "cell_type": "code",
   "execution_count": 20,
   "metadata": {
    "scrolled": true
   },
   "outputs": [
    {
     "data": {
      "text/html": [
       "<div>\n",
       "<style>\n",
       "    .dataframe thead tr:only-child th {\n",
       "        text-align: right;\n",
       "    }\n",
       "\n",
       "    .dataframe thead th {\n",
       "        text-align: left;\n",
       "    }\n",
       "\n",
       "    .dataframe tbody tr th {\n",
       "        vertical-align: top;\n",
       "    }\n",
       "</style>\n",
       "<table border=\"1\" class=\"dataframe\">\n",
       "  <thead>\n",
       "    <tr>\n",
       "      <th></th>\n",
       "      <th colspan=\"4\" halign=\"left\">M</th>\n",
       "    </tr>\n",
       "    <tr>\n",
       "      <th>B</th>\n",
       "      <th>1</th>\n",
       "      <th>2</th>\n",
       "      <th>3</th>\n",
       "      <th>All</th>\n",
       "    </tr>\n",
       "    <tr>\n",
       "      <th>A</th>\n",
       "      <th></th>\n",
       "      <th></th>\n",
       "      <th></th>\n",
       "      <th></th>\n",
       "    </tr>\n",
       "  </thead>\n",
       "  <tbody>\n",
       "    <tr>\n",
       "      <th>1</th>\n",
       "      <td>20.0</td>\n",
       "      <td>30.0</td>\n",
       "      <td>40.0</td>\n",
       "      <td>90.0</td>\n",
       "    </tr>\n",
       "    <tr>\n",
       "      <th>2</th>\n",
       "      <td>50.0</td>\n",
       "      <td>NaN</td>\n",
       "      <td>NaN</td>\n",
       "      <td>50.0</td>\n",
       "    </tr>\n",
       "    <tr>\n",
       "      <th>All</th>\n",
       "      <td>70.0</td>\n",
       "      <td>30.0</td>\n",
       "      <td>40.0</td>\n",
       "      <td>140.0</td>\n",
       "    </tr>\n",
       "  </tbody>\n",
       "</table>\n",
       "</div>"
      ],
      "text/plain": [
       "        M                   \n",
       "B       1     2     3    All\n",
       "A                           \n",
       "1    20.0  30.0  40.0   90.0\n",
       "2    50.0   NaN   NaN   50.0\n",
       "All  70.0  30.0  40.0  140.0"
      ]
     },
     "execution_count": 20,
     "metadata": {},
     "output_type": "execute_result"
    }
   ],
   "source": [
    "data.pivot_table(index = ['A'], columns = ['B'], aggfunc = np.sum, margins = True)"
   ]
  },
  {
   "cell_type": "markdown",
   "metadata": {},
   "source": [
    "## Exercise\n",
    "\n",
    "The above implementation is not complete in that the aggregated values are not associated with their \"coordinates\". We would like to have sth like \n",
    "\n",
    "<pre>\n",
    "1      \t1      \t=>     \t20\n",
    "1      \t2      \t=>     \t30\n",
    "1      \t3      \t=>     \t40\n",
    "1      \t*      \t=>     \t90\n",
    "2      \t1      \t=>     \t50\n",
    "2      \t*      \t=>     \t50\n",
    "*      \t1      \t=>     \t70\n",
    "*      \t2      \t=>     \t30\n",
    "*      \t3      \t=>     \t40\n",
    "*      \t*      \t=>     \t140\n",
    "</pre>"
   ]
  },
  {
   "cell_type": "markdown",
   "metadata": {},
   "source": [
    "Your task is to enhance the implementation of `buc_rec` so that you can generate the above more readable output. "
   ]
  },
  {
   "cell_type": "code",
   "execution_count": null,
   "metadata": {
    "collapsed": true
   },
   "outputs": [],
   "source": []
  },
  {
   "cell_type": "code",
   "execution_count": 137,
   "metadata": {},
   "outputs": [
    {
     "data": {
      "text/html": [
       "<div>\n",
       "<style>\n",
       "    .dataframe thead tr:only-child th {\n",
       "        text-align: right;\n",
       "    }\n",
       "\n",
       "    .dataframe thead th {\n",
       "        text-align: left;\n",
       "    }\n",
       "\n",
       "    .dataframe tbody tr th {\n",
       "        vertical-align: top;\n",
       "    }\n",
       "</style>\n",
       "<table border=\"1\" class=\"dataframe\">\n",
       "  <thead>\n",
       "    <tr style=\"text-align: right;\">\n",
       "      <th></th>\n",
       "      <th>A</th>\n",
       "      <th>B</th>\n",
       "      <th>M</th>\n",
       "    </tr>\n",
       "  </thead>\n",
       "  <tbody>\n",
       "    <tr>\n",
       "      <th>0</th>\n",
       "      <td>1</td>\n",
       "      <td>1</td>\n",
       "      <td>20</td>\n",
       "    </tr>\n",
       "    <tr>\n",
       "      <th>1</th>\n",
       "      <td>1</td>\n",
       "      <td>2</td>\n",
       "      <td>30</td>\n",
       "    </tr>\n",
       "    <tr>\n",
       "      <th>2</th>\n",
       "      <td>1</td>\n",
       "      <td>3</td>\n",
       "      <td>40</td>\n",
       "    </tr>\n",
       "    <tr>\n",
       "      <th>3</th>\n",
       "      <td>1</td>\n",
       "      <td>ALL</td>\n",
       "      <td>90</td>\n",
       "    </tr>\n",
       "    <tr>\n",
       "      <th>4</th>\n",
       "      <td>2</td>\n",
       "      <td>1</td>\n",
       "      <td>50</td>\n",
       "    </tr>\n",
       "    <tr>\n",
       "      <th>5</th>\n",
       "      <td>2</td>\n",
       "      <td>ALL</td>\n",
       "      <td>50</td>\n",
       "    </tr>\n",
       "    <tr>\n",
       "      <th>6</th>\n",
       "      <td>ALL</td>\n",
       "      <td>1</td>\n",
       "      <td>70</td>\n",
       "    </tr>\n",
       "    <tr>\n",
       "      <th>7</th>\n",
       "      <td>ALL</td>\n",
       "      <td>2</td>\n",
       "      <td>30</td>\n",
       "    </tr>\n",
       "    <tr>\n",
       "      <th>8</th>\n",
       "      <td>ALL</td>\n",
       "      <td>3</td>\n",
       "      <td>40</td>\n",
       "    </tr>\n",
       "    <tr>\n",
       "      <th>9</th>\n",
       "      <td>ALL</td>\n",
       "      <td>ALL</td>\n",
       "      <td>140</td>\n",
       "    </tr>\n",
       "  </tbody>\n",
       "</table>\n",
       "</div>"
      ],
      "text/plain": [
       "     A    B    M\n",
       "0    1    1   20\n",
       "1    1    2   30\n",
       "2    1    3   40\n",
       "3    1  ALL   90\n",
       "4    2    1   50\n",
       "5    2  ALL   50\n",
       "6  ALL    1   70\n",
       "7  ALL    2   30\n",
       "8  ALL    3   40\n",
       "9  ALL  ALL  140"
      ]
     },
     "execution_count": 137,
     "metadata": {},
     "output_type": "execute_result"
    }
   ],
   "source": [
    "a = [('1,1', 20),\n",
    " ('1,2', 30),\n",
    " ('1,3', 40),\n",
    " ('1,ALL', 90),\n",
    " ('2,1', 50),\n",
    " ('2,ALL', 50),\n",
    " (',ALL,1', 70),\n",
    " (',ALL,2', 30),\n",
    " (',ALL,3', 40),\n",
    " (',ALL,ALL', 140)]\n",
    "\n",
    "pd_raw_data = []\n",
    "for i, j in a:\n",
    "    aList = list(filter(lambda x: x != '', i.split(',')))\n",
    "    aList.append(j)\n",
    "    pd_raw_data.append(aList)\n",
    "    \n",
    "pd.DataFrame.from_records(pd_raw_data, columns=['A','B','M'])\n",
    "    \n",
    "#     pd.DataFrame.from_records(\n",
    "#         remove_list_items(rows), \n",
    "#         columns=[\"State\", \"R\", \"D\", \"incumbent\"])"
   ]
  },
  {
   "cell_type": "code",
   "execution_count": 146,
   "metadata": {},
   "outputs": [
    {
     "data": {
      "text/plain": [
       "1"
      ]
     },
     "execution_count": 146,
     "metadata": {},
     "output_type": "execute_result"
    }
   ],
   "source": [
    "[1, 2].index(2)"
   ]
  },
  {
   "cell_type": "code",
   "execution_count": null,
   "metadata": {
    "collapsed": true
   },
   "outputs": [],
   "source": []
  }
 ],
 "metadata": {
  "kernelspec": {
   "display_name": "Python 3",
   "language": "python",
   "name": "python3"
  },
  "language_info": {
   "codemirror_mode": {
    "name": "ipython",
    "version": 3
   },
   "file_extension": ".py",
   "mimetype": "text/x-python",
   "name": "python",
   "nbconvert_exporter": "python",
   "pygments_lexer": "ipython3",
   "version": "3.6.1"
  }
 },
 "nbformat": 4,
 "nbformat_minor": 1
}
